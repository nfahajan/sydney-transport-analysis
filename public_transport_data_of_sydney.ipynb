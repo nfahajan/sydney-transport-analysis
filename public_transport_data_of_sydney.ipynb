{
  "cells": [
    {
      "cell_type": "code",
      "execution_count": null,
      "metadata": {
        "colab": {
          "base_uri": "https://localhost:8080/"
        },
        "id": "ktVFy8zETZoc",
        "outputId": "d661c052-facf-4281-a954-40a19c1559a2"
      },
      "outputs": [],
      "source": [
        "from google.colab import drive\n",
        "drive.mount('/content/drive')\n",
        "\n"
      ]
    },
    {
      "cell_type": "code",
      "execution_count": null,
      "metadata": {
        "id": "jFF_gjA7Tlf5"
      },
      "outputs": [],
      "source": [
        "\n",
        "# change this to the folder where your CSVs live\n",
        "BASE = \"/content/drive/MyDrive/datasetnws/gtfs\""
      ]
    },
    {
      "cell_type": "code",
      "execution_count": null,
      "metadata": {
        "id": "arvwViBqVN55"
      },
      "outputs": [],
      "source": [
        "!pip -q install folium"
      ]
    },
    {
      "cell_type": "code",
      "execution_count": null,
      "metadata": {
        "id": "zr-CMi7lVYZo"
      },
      "outputs": [],
      "source": [
        "import pandas as pd\n",
        "import numpy as np\n",
        "import folium\n",
        "import matplotlib.pyplot as plt\n",
        "\n",
        "# Show more columns in outputs\n",
        "pd.set_option(\"display.max_columns\", 100)\n",
        "\n",
        "# GTFS times can be >24:00:00; parse safely to seconds\n",
        "def parse_gtfs_time(s):\n",
        "    # returns seconds from midnight; NaN -> np.nan\n",
        "    try:\n",
        "        h, m, sec = map(int, str(s).split(\":\"))\n",
        "        return h*3600 + m*60 + sec\n",
        "    except Exception:\n",
        "        return np.nan\n",
        "\n",
        "# Route type names (GTFS)\n",
        "ROUTE_TYPE = {\n",
        "    0:\"Tram/Light rail\", 1:\"Subway\", 2:\"Rail\", 3:\"Bus\",\n",
        "    4:\"Ferry\", 5:\"Cable car\", 6:\"Gondola\", 7:\"Funicular\",\n",
        "    11:\"Trolleybus\", 12:\"Monorail\"\n",
        "}\n"
      ]
    },
    {
      "cell_type": "code",
      "execution_count": null,
      "metadata": {
        "id": "4Lchc_kDVciv"
      },
      "outputs": [],
      "source": [
        "agency   = pd.read_csv(f\"{BASE}/agency.csv\", dtype=str, low_memory=False)\n",
        "routes   = pd.read_csv(f\"{BASE}/routes.csv\", dtype=str, low_memory=False)\n",
        "trips    = pd.read_csv(f\"{BASE}/trips.csv\", dtype=str, low_memory=False)\n",
        "stops    = pd.read_csv(f\"{BASE}/stops.csv\", dtype=str, low_memory=False)\n",
        "\n",
        "# load only the columns we need from stop_times (it’s the huge one)\n",
        "usecols = [\"trip_id\",\"arrival_time\",\"departure_time\",\"stop_id\",\"stop_sequence\"]\n",
        "stop_times = pd.read_csv(f\"{BASE}/stop_times.csv\", usecols=usecols, dtype=str, low_memory=False)\n",
        "\n",
        "calendar = pd.read_csv(f\"{BASE}/calendar.csv\", dtype=str, low_memory=False)\n",
        "calendar_dates = pd.read_csv(f\"{BASE}/calendar_dates.csv\", dtype=str, low_memory=False, na_filter=False)\n"
      ]
    },
    {
      "cell_type": "code",
      "execution_count": null,
      "metadata": {
        "colab": {
          "base_uri": "https://localhost:8080/"
        },
        "id": "wnoJV8CnVjXv",
        "outputId": "715e905f-a356-4a46-b348-270d17c99bc3"
      },
      "outputs": [],
      "source": [
        "for name, df in {\n",
        "    \"agency\":agency, \"routes\":routes, \"trips\":trips, \"stops\":stops,\n",
        "    \"stop_times\":stop_times, \"calendar\":calendar, \"calendar_dates\":calendar_dates\n",
        "}.items():\n",
        "    print(name, df.shape, \"nulls:\", df.isna().sum().sum())\n"
      ]
    },
    {
      "cell_type": "code",
      "execution_count": null,
      "metadata": {
        "colab": {
          "base_uri": "https://localhost:8080/"
        },
        "id": "QdEIK52octH9",
        "outputId": "9ee216bc-e542-46f6-dbe5-85b4e1462400"
      },
      "outputs": [],
      "source": [
        "for name, df in [(\"trips\", trips), (\"stops\", stops), (\"agency\", agency)]:\n",
        "    print(f\"\\n{name.upper()}\")\n",
        "    print(df.isna().sum(), \"\\n\")\n"
      ]
    },
    {
      "cell_type": "code",
      "execution_count": null,
      "metadata": {
        "id": "BKzZGE93cvw-"
      },
      "outputs": [],
      "source": [
        "stops = stops.dropna(subset=[\"stop_lat\",\"stop_lon\"])\n"
      ]
    },
    {
      "cell_type": "code",
      "execution_count": null,
      "metadata": {
        "id": "jHf3tGL3c3Wk"
      },
      "outputs": [],
      "source": [
        "# convert times to seconds for analysis\n",
        "def time_to_sec(t):\n",
        "    try:\n",
        "        h,m,s = map(int, t.split(\":\"))\n",
        "        return h*3600 + m*60 + s\n",
        "    except:\n",
        "        return np.nan\n",
        "\n",
        "stop_times[\"arr_sec\"] = stop_times[\"arrival_time\"].apply(time_to_sec)\n",
        "stop_times[\"dep_sec\"] = stop_times[\"departure_time\"].apply(time_to_sec)\n",
        "stop_times[\"hour\"]    = stop_times[\"dep_sec\"] // 3600\n"
      ]
    },
    {
      "cell_type": "code",
      "execution_count": null,
      "metadata": {
        "id": "ZtosypPYc801"
      },
      "outputs": [],
      "source": [
        "# drop rows with missing stop_ids or trip_ids\n",
        "stop_times = stop_times.dropna(subset=[\"stop_id\",\"trip_id\"])\n",
        "\n",
        "# drop trips without a route_id\n",
        "trips = trips.dropna(subset=[\"route_id\"])\n"
      ]
    },
    {
      "cell_type": "code",
      "execution_count": null,
      "metadata": {
        "colab": {
          "base_uri": "https://localhost:8080/"
        },
        "id": "n8zSvFmsdAHV",
        "outputId": "75e89a6e-fc57-42e5-baf1-c21df87cd65a"
      },
      "outputs": [],
      "source": [
        "#Handle duplicates\n",
        "print(\"Duplicates in stops:\", stops.duplicated(subset=[\"stop_id\"]).sum())\n",
        "stops = stops.drop_duplicates(subset=[\"stop_id\"])\n"
      ]
    },
    {
      "cell_type": "code",
      "execution_count": null,
      "metadata": {
        "colab": {
          "base_uri": "https://localhost:8080/"
        },
        "id": "97vQgumcVmH3",
        "outputId": "06ff61a9-63ee-48a6-9445-30ec0df991c8"
      },
      "outputs": [],
      "source": [
        "# service_ids running on Monday\n",
        "svc_mon = calendar.loc[calendar[\"monday\"]==\"1\", \"service_id\"].unique()\n",
        "trips_mon = trips[trips[\"service_id\"].isin(svc_mon)]\n",
        "stop_times_mon = stop_times[stop_times[\"trip_id\"].isin(trips_mon[\"trip_id\"])]\n",
        "\n",
        "print(\"Trips on Monday:\", len(trips_mon), \"Stop time rows:\", len(stop_times_mon))\n"
      ]
    },
    {
      "cell_type": "code",
      "execution_count": null,
      "metadata": {
        "colab": {
          "base_uri": "https://localhost:8080/",
          "height": 469
        },
        "id": "_kFlXhz2VqOe",
        "outputId": "d1c8d8e9-195d-42f4-c3d1-e16e9ece98d0"
      },
      "outputs": [],
      "source": [
        "master = (\n",
        "    stop_times_mon\n",
        "      .merge(trips,   on=\"trip_id\",  how=\"left\")\n",
        "      .merge(routes,  on=\"route_id\", how=\"left\")\n",
        "      .merge(stops,   on=\"stop_id\",  how=\"left\")\n",
        ")\n",
        "\n",
        "# Parse times to seconds to enable grouping by hour, etc.\n",
        "master[\"arr_sec\"] = master[\"arrival_time\"].map(parse_gtfs_time)\n",
        "master[\"dep_sec\"] = master[\"departure_time\"].map(parse_gtfs_time)\n",
        "master[\"hour\"]    = (master[\"arr_sec\"] // 3600).astype(\"Int64\")\n",
        "\n",
        "# Map route_type to readable labels if present\n",
        "if \"route_type\" in master.columns:\n",
        "    master[\"route_type_name\"] = master[\"route_type\"].astype(float).astype(int, errors=\"ignore\").map(ROUTE_TYPE)\n",
        "master.head()\n"
      ]
    },
    {
      "cell_type": "markdown",
      "metadata": {
        "id": "-zBdEz9KVztf"
      },
      "source": [
        "**ANALYSIS A — Busiest stops (by scheduled service)**"
      ]
    },
    {
      "cell_type": "code",
      "execution_count": null,
      "metadata": {
        "colab": {
          "base_uri": "https://localhost:8080/",
          "height": 677
        },
        "id": "XWvlbbrQVyrf",
        "outputId": "6ddd82f3-b3d2-45b6-daea-f1ad974235a3"
      },
      "outputs": [],
      "source": [
        "busiest_stops = (master.groupby([\"stop_id\",\"stop_name\"])[\"trip_id\"]\n",
        "                        .nunique()\n",
        "                        .sort_values(ascending=False)\n",
        "                        .head(20)\n",
        "                        .reset_index(name=\"unique_trips\"))\n",
        "busiest_stops\n"
      ]
    },
    {
      "cell_type": "code",
      "execution_count": null,
      "metadata": {
        "colab": {
          "base_uri": "https://localhost:8080/",
          "height": 507
        },
        "id": "QCxxRt4_WCYw",
        "outputId": "7ad45433-62d7-40fc-8e64-360d962191c2"
      },
      "outputs": [],
      "source": [
        "plt.figure(figsize=(10,5))\n",
        "plt.barh(busiest_stops[\"stop_name\"].iloc[::-1], busiest_stops[\"unique_trips\"].iloc[::-1])\n",
        "plt.title(\"Top 20 Stops by Unique Trips (proxy for usage)\")\n",
        "plt.xlabel(\"Unique Trips (per day)\")\n",
        "plt.tight_layout()\n",
        "plt.show()\n"
      ]
    },
    {
      "cell_type": "markdown",
      "metadata": {
        "id": "a3TfOLCNWE33"
      },
      "source": [
        "**ANALYSIS B — Busiest routes**"
      ]
    },
    {
      "cell_type": "code",
      "execution_count": null,
      "metadata": {
        "colab": {
          "base_uri": "https://localhost:8080/",
          "height": 677
        },
        "id": "U814wogcWI6X",
        "outputId": "5e2d8cf7-f624-41d3-813a-ef8d3a10239b"
      },
      "outputs": [],
      "source": [
        "routes_by_trips = (master.groupby([\"route_id\",\"route_short_name\",\"route_long_name\"])[\"trip_id\"]\n",
        "                          .nunique()\n",
        "                          .sort_values(ascending=False)\n",
        "                          .head(20)\n",
        "                          .reset_index(name=\"unique_trips\"))\n",
        "routes_by_trips\n"
      ]
    },
    {
      "cell_type": "markdown",
      "metadata": {
        "id": "NmPafglAWRaO"
      },
      "source": [
        "**ANALYSIS C — Peak‑hour profile**"
      ]
    },
    {
      "cell_type": "code",
      "execution_count": null,
      "metadata": {
        "colab": {
          "base_uri": "https://localhost:8080/",
          "height": 410
        },
        "id": "ZrH25iEmWTx2",
        "outputId": "964828e6-096e-4d8f-ff23-9434a1c5b7df"
      },
      "outputs": [],
      "source": [
        "hourly = master.dropna(subset=[\"hour\"]).groupby(\"hour\")[\"trip_id\"].count().reset_index(name=\"stop_events\")\n",
        "plt.figure(figsize=(10,4))\n",
        "plt.bar(hourly[\"hour\"], hourly[\"stop_events\"])\n",
        "plt.xticks(range(0, 25))\n",
        "plt.title(\"Stop Events by Hour (all routes)\")\n",
        "plt.xlabel(\"Hour of day\")\n",
        "plt.ylabel(\"Stop events\")\n",
        "plt.show()\n"
      ]
    },
    {
      "cell_type": "markdown",
      "metadata": {
        "id": "NL5RPGIlWbce"
      },
      "source": [
        "**ANALYSIS D — Service by day of week**"
      ]
    },
    {
      "cell_type": "code",
      "execution_count": null,
      "metadata": {
        "colab": {
          "base_uri": "https://localhost:8080/",
          "height": 391
        },
        "id": "u0jQva5zWZov",
        "outputId": "5b5b9219-5690-44e0-9f09-ff7102f96f8b"
      },
      "outputs": [],
      "source": [
        "days = [\"monday\",\"tuesday\",\"wednesday\",\"thursday\",\"friday\",\"saturday\",\"sunday\"]\n",
        "day_counts = calendar[days].astype(int).sum()\n",
        "plt.figure(figsize=(8,4))\n",
        "plt.bar(day_counts.index.str.title(), day_counts.values)\n",
        "plt.title(\"Service Availability by Day (count of service_ids running)\")\n",
        "plt.xticks(rotation=0)\n",
        "plt.show()\n"
      ]
    },
    {
      "cell_type": "markdown",
      "metadata": {
        "id": "nX_MXiMTWg0_"
      },
      "source": [
        "**ANALYSIS E — Headway (average scheduled wait) per route & hour**"
      ]
    },
    {
      "cell_type": "code",
      "execution_count": null,
      "metadata": {
        "colab": {
          "base_uri": "https://localhost:8080/",
          "height": 624
        },
        "id": "DLPpzotrWkQX",
        "outputId": "8348329e-5932-4b51-c612-f4f15f94fc5c"
      },
      "outputs": [],
      "source": [
        "# choose departure seconds for stability\n",
        "evt = master.dropna(subset=[\"dep_sec\",\"hour\"]).copy()\n",
        "evt[\"dep_sec\"] = evt[\"dep_sec\"].astype(int)\n",
        "\n",
        "# per (route_id, hour) sort by time and compute diffs\n",
        "def avg_headway(group):\n",
        "    g = group.sort_values(\"dep_sec\")[\"dep_sec\"].values\n",
        "    if len(g) < 2:\n",
        "        return np.nan\n",
        "    gaps = np.diff(g)\n",
        "    return np.mean(gaps)/60.0  # minutes\n",
        "\n",
        "headway = (evt.groupby([\"route_id\",\"hour\"])\n",
        "              .apply(avg_headway)\n",
        "              .reset_index(name=\"avg_headway_min\")\n",
        "              .dropna())\n",
        "headway.sort_values([\"avg_headway_min\"]).head(20)\n"
      ]
    },
    {
      "cell_type": "markdown",
      "metadata": {
        "id": "Ec8qpPhvYAMm"
      },
      "source": [
        "**Public Transport Efficiency Analysis (GTFS Data)**"
      ]
    },
    {
      "cell_type": "markdown",
      "metadata": {
        "id": "WnVzb1t-Zd0F"
      },
      "source": [
        "**Busiest Stops**"
      ]
    },
    {
      "cell_type": "code",
      "execution_count": null,
      "metadata": {
        "colab": {
          "base_uri": "https://localhost:8080/",
          "height": 607
        },
        "id": "vQYQ_hNbX6Fm",
        "outputId": "a65b57d9-b7a3-4fd5-a13e-d0126436b5d7"
      },
      "outputs": [],
      "source": [
        "busiest_stops = (\n",
        "    master.groupby([\"stop_id\",\"stop_name\"])[\"trip_id\"]\n",
        "          .nunique()\n",
        "          .sort_values(ascending=False)\n",
        "          .head(20)\n",
        "          .reset_index(name=\"unique_trips\")\n",
        ")\n",
        "\n",
        "plt.figure(figsize=(10,6))\n",
        "plt.barh(busiest_stops[\"stop_name\"][::-1], busiest_stops[\"unique_trips\"][::-1])\n",
        "plt.title(\"Top 20 Busiest Stops by Unique Trips\")\n",
        "plt.xlabel(\"Unique Trips\")\n",
        "plt.ylabel(\"Stop Name\")\n",
        "plt.tight_layout()\n",
        "plt.show()\n"
      ]
    },
    {
      "cell_type": "markdown",
      "metadata": {
        "id": "Qp5FjTECZhbG"
      },
      "source": [
        "**Busiest Routes**"
      ]
    },
    {
      "cell_type": "code",
      "execution_count": null,
      "metadata": {
        "colab": {
          "base_uri": "https://localhost:8080/",
          "height": 607
        },
        "id": "9zPAXNr4ZlPt",
        "outputId": "afa20d3d-7945-481b-bcef-27b080b98070"
      },
      "outputs": [],
      "source": [
        "label_col = \"route_short_name\" if \"route_short_name\" in master.columns else \"route_id\"\n",
        "busiest_routes = (\n",
        "    master.groupby([\"route_id\", label_col])[\"trip_id\"]\n",
        "          .nunique()\n",
        "          .sort_values(ascending=False)\n",
        "          .head(15)\n",
        "          .reset_index(name=\"unique_trips\")\n",
        ")\n",
        "\n",
        "plt.figure(figsize=(12,6))\n",
        "x = np.arange(len(busiest_routes))\n",
        "plt.bar(x, busiest_routes[\"unique_trips\"].values)\n",
        "plt.xticks(x, busiest_routes[label_col].astype(str).values, rotation=45, ha=\"right\")\n",
        "plt.title(\"Top 15 Routes by Number of Trips\")\n",
        "plt.ylabel(\"Unique Trips\")\n",
        "plt.tight_layout()\n",
        "plt.show()\n"
      ]
    },
    {
      "cell_type": "markdown",
      "metadata": {
        "id": "XQ9O9Bt7aqll"
      },
      "source": [
        "**Peak Hours**"
      ]
    },
    {
      "cell_type": "code",
      "execution_count": null,
      "metadata": {
        "colab": {
          "base_uri": "https://localhost:8080/",
          "height": 507
        },
        "id": "mYY_kvRaZVpe",
        "outputId": "14913f5c-329f-4ac0-dd92-17a127e88ca2"
      },
      "outputs": [],
      "source": [
        "hourly = (\n",
        "    master[master[\"hour\"].notna()]\n",
        "      .groupby(master[\"hour\"].astype(int))[\"trip_id\"]\n",
        "      .count()\n",
        "      .reset_index(name=\"stop_events\")\n",
        "      .sort_values(\"hour\")\n",
        ")\n",
        "\n",
        "plt.figure(figsize=(11,5))\n",
        "plt.plot(hourly[\"hour\"], hourly[\"stop_events\"], marker=\"o\")\n",
        "plt.xticks(range(0,24))\n",
        "plt.title(\"Stop Events by Hour of Day\")\n",
        "plt.xlabel(\"Hour of Day\")\n",
        "plt.ylabel(\"Stop Events (scheduled)\")\n",
        "plt.grid(True, linestyle=\"--\", alpha=0.4)\n",
        "plt.tight_layout()\n",
        "plt.show()\n"
      ]
    },
    {
      "cell_type": "markdown",
      "metadata": {
        "id": "KsvCLNIga7NF"
      },
      "source": [
        "**Weekly Service**"
      ]
    },
    {
      "cell_type": "code",
      "execution_count": null,
      "metadata": {
        "colab": {
          "base_uri": "https://localhost:8080/",
          "height": 507
        },
        "id": "e4r_yaiYa9V9",
        "outputId": "bd3bc05b-e5d1-4590-d4aa-421bac5d1f57"
      },
      "outputs": [],
      "source": [
        "days = [\"monday\",\"tuesday\",\"wednesday\",\"thursday\",\"friday\",\"saturday\",\"sunday\"]\n",
        "day_counts = calendar[days].astype(int).sum()\n",
        "\n",
        "plt.figure(figsize=(9,5))\n",
        "plt.bar([d.title() for d in days], day_counts.values)\n",
        "plt.title(\"Service Availability by Day of Week\")\n",
        "plt.ylabel(\"Count of Service IDs Running\")\n",
        "plt.tight_layout()\n",
        "plt.show()\n"
      ]
    },
    {
      "cell_type": "markdown",
      "metadata": {
        "id": "cFUgE9Zqap_2"
      },
      "source": []
    },
    {
      "cell_type": "markdown",
      "metadata": {
        "id": "lapRVfO9bBT1"
      },
      "source": [
        "**Headway (average scheduled wait)**"
      ]
    },
    {
      "cell_type": "code",
      "execution_count": null,
      "metadata": {
        "colab": {
          "base_uri": "https://localhost:8080/",
          "height": 1000
        },
        "id": "tFhQal8pbHr1",
        "outputId": "a5a78c74-827e-4265-ee5d-bb16b2a5829b"
      },
      "outputs": [],
      "source": [
        "evt = master[master[\"dep_sec\"].notna() & master[\"hour\"].notna()].copy()\n",
        "evt[\"dep_sec\"] = evt[\"dep_sec\"].astype(int)\n",
        "evt[\"hour\"]    = evt[\"hour\"].astype(int)\n",
        "\n",
        "# average headway (minutes) for each (route_id, hour)\n",
        "def avg_headway(group):\n",
        "    sec = np.sort(group[\"dep_sec\"].values)\n",
        "    if sec.size < 2:\n",
        "        return np.nan\n",
        "    gaps = np.diff(sec)\n",
        "    return gaps.mean() / 60.0\n",
        "\n",
        "headway = (\n",
        "    evt.groupby([\"route_id\",\"hour\"])\n",
        "       .apply(avg_headway)\n",
        "       .reset_index(name=\"avg_headway_min\")\n",
        "       .dropna()\n",
        ")\n",
        "\n",
        "# Boxplot by hour\n",
        "hour_groups = [headway.loc[headway[\"hour\"]==h, \"avg_headway_min\"].values\n",
        "               for h in range(24)]\n",
        "plt.figure(figsize=(12,5))\n",
        "plt.boxplot(hour_groups, positions=list(range(24)), showfliers=False)\n",
        "plt.title(\"Average Headway by Hour (minutes)\")\n",
        "plt.xlabel(\"Hour of Day\")\n",
        "plt.ylabel(\"Average Headway (min)\")\n",
        "plt.ylim(0, 60)  # clamp if outliers are huge\n",
        "plt.tight_layout()\n",
        "plt.show()\n",
        "\n",
        "# Histogram of all headways (clip extreme outliers for readability)\n",
        "vals = np.clip(headway[\"avg_headway_min\"].values, 0, 90)\n",
        "plt.figure(figsize=(9,5))\n",
        "plt.hist(vals, bins=30)\n",
        "plt.title(\"Distribution of Average Headways (minutes)\")\n",
        "plt.xlabel(\"Average Headway (min)\")\n",
        "plt.ylabel(\"Route-Hour counts\")\n",
        "plt.tight_layout()\n",
        "plt.show()\n"
      ]
    },
    {
      "cell_type": "markdown",
      "metadata": {
        "id": "99BJA31nbsu1"
      },
      "source": [
        "**Highlight busiest stops on the same scatter**"
      ]
    },
    {
      "cell_type": "code",
      "execution_count": null,
      "metadata": {
        "colab": {
          "base_uri": "https://localhost:8080/",
          "height": 1000
        },
        "id": "fEeLyANaWrku",
        "outputId": "8ef2a6a1-968c-4433-b771-94984a080ecc"
      },
      "outputs": [],
      "source": [
        "# Base map (Sydney CBD center; change if using Melbourne)\n",
        "m = folium.Map(location=[-33.8688, 151.2093], zoom_start=11)\n",
        "\n",
        "# Plot ALL stops faintly\n",
        "for _, r in stops.iterrows():\n",
        "    if pd.notna(r.get(\"stop_lat\")) and pd.notna(r.get(\"stop_lon\")):\n",
        "        folium.CircleMarker([float(r.stop_lat), float(r.stop_lon)],\n",
        "                            radius=1, opacity=0.5, fill=True, fill_opacity=0.5).add_to(m)\n",
        "\n",
        "# Highlight top 200 busiest stops in red (by unique trips)\n",
        "topN = busiest_stops.head(200).merge(stops[[\"stop_id\",\"stop_lat\",\"stop_lon\"]], on=\"stop_id\")\n",
        "for _, r in topN.iterrows():\n",
        "    folium.CircleMarker([float(r.stop_lat), float(r.stop_lon)],\n",
        "                        radius=4, popup=f\"{r.stop_name} ({r.unique_trips} trips)\",\n",
        "                        color=\"red\", fill=True).add_to(m)\n",
        "\n",
        "m  # displays in Colab\n"
      ]
    },
    {
      "cell_type": "code",
      "execution_count": null,
      "metadata": {
        "id": "ts-Y9r2iWyzI"
      },
      "outputs": [],
      "source": [
        "busiest_stops.to_csv(f\"{BASE}/busiest_stops.csv\", index=False)\n",
        "routes_by_trips.to_csv(f\"{BASE}/busiest_routes.csv\", index=False)\n",
        "hourly.to_csv(f\"{BASE}/hourly_stop_events.csv\", index=False)\n",
        "headway.to_csv(f\"{BASE}/route_hour_headway.csv\", index=False)\n"
      ]
    }
  ],
  "metadata": {
    "colab": {
      "provenance": []
    },
    "kernelspec": {
      "display_name": "Python 3",
      "name": "python3"
    },
    "language_info": {
      "name": "python"
    }
  },
  "nbformat": 4,
  "nbformat_minor": 0
}
